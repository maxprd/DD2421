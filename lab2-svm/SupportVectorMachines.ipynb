{
 "cells": [
  {
   "cell_type": "code",
   "execution_count": 1,
   "metadata": {},
   "outputs": [],
   "source": [
    "import numpy, random, math\n",
    "from scipy.optimize import minimize\n",
    "import matplotlib.pyplot as plt\n",
    "import random"
   ]
  },
  {
   "cell_type": "code",
   "execution_count": 2,
   "metadata": {},
   "outputs": [],
   "source": [
    "numpy.random.seed(100)\n",
    "\n",
    "classA = numpy.concatenate((\n",
    "    numpy.random.randn(10, 2) * 0.3 + [1.5, 0.5],\n",
    "    numpy.random.randn(5, 2) * 0.3 + [-1.5, 0.5],\n",
    "    numpy.random.randn(5, 2) * 0.7 + [0.0, -1.0],\n",
    "    ))\n",
    "classB=numpy.random.randn(20, 2) * 0.3 + [0.0, -0.5]\n",
    "\n",
    "inputs=numpy.concatenate((classA, classB))\n",
    "targets=numpy.concatenate((numpy.ones(classA.shape[0]), -numpy.ones(classB.shape[0])))\n",
    "\n",
    "N = inputs.shape[0] # Number of rows (samples)\n",
    "\n",
    "permute = list(range(N))\n",
    "random.shuffle(permute)\n",
    "inputs = inputs[permute,:]\n",
    "targets = targets[permute]"
   ]
  },
  {
   "cell_type": "code",
   "execution_count": 3,
   "metadata": {},
   "outputs": [],
   "source": [
    "#Linear kernel\n",
    "def LinearKernel(x, y):\n",
    "    # Todo: Transform x\n",
    "    return numpy.dot(x, y)\n",
    "    \n",
    "# Polynomial kernels\n",
    "def PolyKernel(x, y):\n",
    "    # Todo: Transform x\n",
    "    # The exponent p (a positive integer) controls the degree of the polynomials. \n",
    "    # p = 2 will make quadratic shapes (ellipses, parabolas, hyperbolas). \n",
    "    # Setting p = 3 or higher will result in more complex shapes.\n",
    "    p = 5\n",
    "    return numpy.power(numpy.dot(x, y) + 1, p)\n",
    "    \n",
    "def RBFKernel(x, y):\n",
    "    # the parameter sigma is used to control the smoothness of the boundary\n",
    "    sigma = 2\n",
    "    return math.exp(-math.pow(numpy.linalg.norm(numpy.subtract(x, y)), 2)/(2 * math.pow(sigma,2)))\n",
    "\n",
    "Kernel = RBFKernel"
   ]
  },
  {
   "cell_type": "code",
   "execution_count": 4,
   "metadata": {},
   "outputs": [],
   "source": [
    "Pmatrix = numpy.zeros((N,N))\n",
    "for i in range(N):\n",
    "    for j in range(N):\n",
    "        Pmatrix[i][j] = targets[i] * targets[j] * Kernel(inputs[i], inputs[j])"
   ]
  },
  {
   "cell_type": "code",
   "execution_count": 5,
   "metadata": {},
   "outputs": [],
   "source": [
    "def zerofun(alpha):\n",
    "    return numpy.dot(alpha, targets)"
   ]
  },
  {
   "cell_type": "code",
   "execution_count": 6,
   "metadata": {},
   "outputs": [],
   "source": [
    "def objective(alpha):\n",
    "    return (1/2)*numpy.dot(alpha, numpy.dot(alpha, Pmatrix)) - numpy.sum(alpha)"
   ]
  },
  {
   "cell_type": "code",
   "execution_count": 32,
   "metadata": {},
   "outputs": [
    {
     "ename": "ValueError",
     "evalue": "Cannot find optimizing solution",
     "output_type": "error",
     "traceback": [
      "\u001b[1;31m---------------------------------------------------------------------------\u001b[0m",
      "\u001b[1;31mValueError\u001b[0m                                Traceback (most recent call last)",
      "\u001b[1;32m<ipython-input-32-5d631c17454c>\u001b[0m in \u001b[0;36m<module>\u001b[1;34m()\u001b[0m\n\u001b[0;32m     15\u001b[0m \u001b[0mret\u001b[0m \u001b[1;33m=\u001b[0m \u001b[0mminimize\u001b[0m\u001b[1;33m(\u001b[0m\u001b[0mobjective\u001b[0m\u001b[1;33m,\u001b[0m \u001b[0mstart\u001b[0m\u001b[1;33m,\u001b[0m \u001b[0mbounds\u001b[0m\u001b[1;33m=\u001b[0m\u001b[0mB\u001b[0m\u001b[1;33m,\u001b[0m \u001b[0mconstraints\u001b[0m\u001b[1;33m=\u001b[0m\u001b[0mXC\u001b[0m\u001b[1;33m)\u001b[0m\u001b[1;33m\u001b[0m\u001b[0m\n\u001b[0;32m     16\u001b[0m \u001b[1;32mif\u001b[0m \u001b[1;33m(\u001b[0m\u001b[1;32mnot\u001b[0m \u001b[0mret\u001b[0m\u001b[1;33m[\u001b[0m\u001b[1;34m'success'\u001b[0m\u001b[1;33m]\u001b[0m\u001b[1;33m)\u001b[0m\u001b[1;33m:\u001b[0m \u001b[1;31m# The string 'success' instead holds a boolean representing if the optimizer has found a solution\u001b[0m\u001b[1;33m\u001b[0m\u001b[0m\n\u001b[1;32m---> 17\u001b[1;33m     \u001b[1;32mraise\u001b[0m \u001b[0mValueError\u001b[0m\u001b[1;33m(\u001b[0m\u001b[1;34m'Cannot find optimizing solution'\u001b[0m\u001b[1;33m)\u001b[0m\u001b[1;33m\u001b[0m\u001b[0m\n\u001b[0m\u001b[0;32m     18\u001b[0m \u001b[1;33m\u001b[0m\u001b[0m\n\u001b[0;32m     19\u001b[0m \u001b[1;31m# Extract non-zero alphas\u001b[0m\u001b[1;33m\u001b[0m\u001b[1;33m\u001b[0m\u001b[0m\n",
      "\u001b[1;31mValueError\u001b[0m: Cannot find optimizing solution"
     ]
    }
   ],
   "source": [
    "start = numpy.zeros(N) # N is the number of training samples\n",
    "C = 10000\n",
    "\n",
    "# To have an upper constraint\n",
    "B = [(0, C) for b in range(N)]\n",
    "\n",
    "# To only have a lower bound:\n",
    "# B = [(0, None) for b in range(N)]\n",
    "\n",
    "# XC is the second half of equation 10; given as a dictionary with fields type and fun\n",
    "# In the following example, zerofun is a function which calculates the value which\n",
    "# ...should be constrained to zero.\n",
    "XC = {'type':'eq', 'fun':zerofun}\n",
    "\n",
    "ret = minimize(objective, start, bounds=B, constraints=XC)\n",
    "if (not ret['success']): # The string 'success' instead holds a boolean representing if the optimizer has found a solution\n",
    "    raise ValueError('Cannot find optimizing solution')\n",
    "\n",
    "# Extract non-zero alphas\n",
    "alpha = ret['x']\n",
    "nonzero = [(alpha[i], inputs[i], targets[i]) for i in range(N) if abs(alpha[i]) > 10e-5]"
   ]
  },
  {
   "cell_type": "code",
   "execution_count": 33,
   "metadata": {},
   "outputs": [],
   "source": [
    "def bval():\n",
    "    bsum = 0\n",
    "    for value in nonzero:\n",
    "        bsum += value[0] * value[2] * Kernel(value[1], nonzero[0][1])\n",
    "    return bsum - nonzero[0][2]\n",
    "        \n",
    "def indicator(x, y, b):\n",
    "    totsum = 0\n",
    "    for value in nonzero:\n",
    "        totsum += value[0] * value[2] * Kernel([x, y], value[1])\n",
    "    return totsum - b"
   ]
  },
  {
   "cell_type": "code",
   "execution_count": 35,
   "metadata": {},
   "outputs": [
    {
     "data": {
      "image/png": "[encoded data removed]",
      "text/plain": [
       "<matplotlib.figure.Figure at 0x15ba6f0>"
      ]
     },
     "metadata": {},
     "output_type": "display_data"
    }
   ],
   "source": [
    "b = bval()\n",
    "\n",
    "# Plot data points\n",
    "plt.plot([p[0] for p in classA], [p[1] for p in classA], 'b.')\n",
    "plt.plot([p[0] for p in classB], [p[1] for p in classB], 'r.')\n",
    "#plt.plot([p[1][0] for p in nonzero], [p[1][1] for p in nonzero], 'yo')\n",
    "\n",
    "# Plot contour\n",
    "xbound = 5\n",
    "ybound = 4\n",
    "xgrid = numpy.linspace(-xbound, xbound)\n",
    "ygrid = numpy.linspace(-ybound, ybound)\n",
    "grid = numpy.array([[indicator(x, y, b) for x in xgrid] for y in ygrid])\n",
    "plt.contour(xgrid, ygrid, grid, (-1.0,0.0,1.0), colors=('red','black','blue'), linewidths=(1,3,1))\n",
    "\n",
    "#plt.savefig('svmplot.pdf') # Save a copy in a file\n",
    "plt.show() # Show the plot on the screen"
   ]
  },
  {
   "cell_type": "code",
   "execution_count": null,
   "metadata": {},
   "outputs": [],
   "source": []
  },
  {
   "cell_type": "code",
   "execution_count": null,
   "metadata": {},
   "outputs": [],
   "source": []
  },
  {
   "cell_type": "code",
   "execution_count": null,
   "metadata": {},
   "outputs": [],
   "source": []
  },
  {
   "cell_type": "code",
   "execution_count": null,
   "metadata": {},
   "outputs": [],
   "source": []
  }
 ],
 "metadata": {
  "kernelspec": {
   "display_name": "Python 3",
   "language": "python",
   "name": "python3"
  },
  "language_info": {
   "codemirror_mode": {
    "name": "ipython",
    "version": 3
   },
   "file_extension": ".py",
   "mimetype": "text/x-python",
   "name": "python",
   "nbconvert_exporter": "python",
   "pygments_lexer": "ipython3",
   "version": "3.6.3"
  }
 },
 "nbformat": 4,
 "nbformat_minor": 2
}
